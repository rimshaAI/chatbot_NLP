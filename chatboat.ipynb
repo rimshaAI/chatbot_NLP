{
 "cells": [
  {
   "cell_type": "code",
   "execution_count": 5,
   "metadata": {},
   "outputs": [
    {
     "name": "stderr",
     "output_type": "stream",
     "text": [
      "[nltk_data] Downloading package punkt to\n",
      "[nltk_data]     C:\\Users\\Dell\\AppData\\Roaming\\nltk_data...\n",
      "[nltk_data]   Package punkt is already up-to-date!\n"
     ]
    }
   ],
   "source": [
    "#libraries from nlp\n",
    "\n",
    "import nltk\n",
    "nltk.download('punkt')\n",
    "from nltk.stem import PorterStemmer\n",
    "stemmer=PorterStemmer()\n",
    "import tensorflow as tf \n",
    "import json\n",
    "import numpy as np\n",
    "import random"
   ]
  },
  {
   "cell_type": "code",
   "execution_count": 6,
   "metadata": {},
   "outputs": [],
   "source": [
    "import pandas as pd\n",
    "intents=pd.read_json('intents.json')"
   ]
  },
  {
   "cell_type": "code",
   "execution_count": 7,
   "metadata": {},
   "outputs": [
    {
     "data": {
      "text/html": [
       "<div>\n",
       "<style scoped>\n",
       "    .dataframe tbody tr th:only-of-type {\n",
       "        vertical-align: middle;\n",
       "    }\n",
       "\n",
       "    .dataframe tbody tr th {\n",
       "        vertical-align: top;\n",
       "    }\n",
       "\n",
       "    .dataframe thead th {\n",
       "        text-align: right;\n",
       "    }\n",
       "</style>\n",
       "<table border=\"1\" class=\"dataframe\">\n",
       "  <thead>\n",
       "    <tr style=\"text-align: right;\">\n",
       "      <th></th>\n",
       "      <th>intents</th>\n",
       "    </tr>\n",
       "  </thead>\n",
       "  <tbody>\n",
       "    <tr>\n",
       "      <th>0</th>\n",
       "      <td>{'tag': 'greeting', 'patterns': ['Hi', 'How ar...</td>\n",
       "    </tr>\n",
       "    <tr>\n",
       "      <th>1</th>\n",
       "      <td>{'tag': 'goodbye', 'patterns': ['Bye', 'See yo...</td>\n",
       "    </tr>\n",
       "    <tr>\n",
       "      <th>2</th>\n",
       "      <td>{'tag': 'thanks', 'patterns': ['Thanks', 'Than...</td>\n",
       "    </tr>\n",
       "    <tr>\n",
       "      <th>3</th>\n",
       "      <td>{'tag': 'chatbot', 'patterns': ['Who built thi...</td>\n",
       "    </tr>\n",
       "    <tr>\n",
       "      <th>4</th>\n",
       "      <td>{'tag': 'location', 'patterns': ['What is your...</td>\n",
       "    </tr>\n",
       "    <tr>\n",
       "      <th>5</th>\n",
       "      <td>{'tag': 'connect', 'patterns': ['Give me your ...</td>\n",
       "    </tr>\n",
       "    <tr>\n",
       "      <th>6</th>\n",
       "      <td>{'tag': 'movies', 'patterns': ['Which is your ...</td>\n",
       "    </tr>\n",
       "    <tr>\n",
       "      <th>7</th>\n",
       "      <td>{'tag': 'about', 'patterns': ['Who are you?', ...</td>\n",
       "    </tr>\n",
       "  </tbody>\n",
       "</table>\n",
       "</div>"
      ],
      "text/plain": [
       "                                             intents\n",
       "0  {'tag': 'greeting', 'patterns': ['Hi', 'How ar...\n",
       "1  {'tag': 'goodbye', 'patterns': ['Bye', 'See yo...\n",
       "2  {'tag': 'thanks', 'patterns': ['Thanks', 'Than...\n",
       "3  {'tag': 'chatbot', 'patterns': ['Who built thi...\n",
       "4  {'tag': 'location', 'patterns': ['What is your...\n",
       "5  {'tag': 'connect', 'patterns': ['Give me your ...\n",
       "6  {'tag': 'movies', 'patterns': ['Which is your ...\n",
       "7  {'tag': 'about', 'patterns': ['Who are you?', ..."
      ]
     },
     "execution_count": 7,
     "metadata": {},
     "output_type": "execute_result"
    }
   ],
   "source": [
    "intents"
   ]
  },
  {
   "cell_type": "code",
   "execution_count": 12,
   "metadata": {},
   "outputs": [],
   "source": [
    "words =[]\n",
    "classes=[]\n",
    "documents=[]\n",
    "ignore=['?']\n",
    "#loop through each sentence in the intent's paterns\n",
    "for intent in intents['intents']:\n",
    "    for pattern in intent['patterns']:\n",
    "        # tokanize each and every word in the sentence\n",
    "        w=nltk.word_tokenize(pattern)\n",
    "        #add word to the word list\n",
    "        words.extend(w)\n",
    "        #add tags to our classes list\n",
    "        if intent['tag'] not in classes:\n",
    "            classes.append(intent['tag'])"
   ]
  },
  {
   "cell_type": "code",
   "execution_count": 13,
   "metadata": {},
   "outputs": [
    {
     "name": "stdout",
     "output_type": "stream",
     "text": [
      "0 documents\n",
      "8 classes ['about', 'chatbot', 'connect', 'goodbye', 'greeting', 'location', 'movies', 'thanks']\n",
      "8 unique stemmed words ['about', 'chatbot', 'connect', 'goodbye', 'greeting', 'location', 'movies', 'thanks']\n"
     ]
    }
   ],
   "source": [
    "#perform stemming and lower each word as well as remove duplicates\n",
    "words= [stemmer.stem(w.lower()) for w in words if w not in ignore]\n",
    "words= sorted(list(set(classes)))\n",
    "#remove duplicate classes\n",
    "classes= sorted(list(set(words)))\n",
    "\n",
    "print (len(documents), 'documents')\n",
    "print (len(classes), 'classes', classes)\n",
    "print (len(words),'unique stemmed words', words)"
   ]
  },
  {
   "cell_type": "code",
   "execution_count": 17,
   "metadata": {},
   "outputs": [
    {
     "ename": "IndexError",
     "evalue": "too many indices for array: array is 1-dimensional, but 2 were indexed",
     "output_type": "error",
     "traceback": [
      "\u001b[1;31m---------------------------------------------------------------------------\u001b[0m",
      "\u001b[1;31mIndexError\u001b[0m                                Traceback (most recent call last)",
      "\u001b[1;32me:\\github project\\salary_prediction_simplelinearregression\\chatbot_NLP\\chatboat.ipynb Cell 6\u001b[0m in \u001b[0;36m<cell line: 29>\u001b[1;34m()\u001b[0m\n\u001b[0;32m     <a href='vscode-notebook-cell:/e%3A/github%20project/salary_prediction_simplelinearregression/chatbot_NLP/chatboat.ipynb#W5sZmlsZQ%3D%3D?line=25'>26</a>\u001b[0m training\u001b[39m=\u001b[39m np\u001b[39m.\u001b[39marray(training)\n\u001b[0;32m     <a href='vscode-notebook-cell:/e%3A/github%20project/salary_prediction_simplelinearregression/chatbot_NLP/chatboat.ipynb#W5sZmlsZQ%3D%3D?line=27'>28</a>\u001b[0m \u001b[39m# creating training lists\u001b[39;00m\n\u001b[1;32m---> <a href='vscode-notebook-cell:/e%3A/github%20project/salary_prediction_simplelinearregression/chatbot_NLP/chatboat.ipynb#W5sZmlsZQ%3D%3D?line=28'>29</a>\u001b[0m train_x\u001b[39m=\u001b[39m \u001b[39mlist\u001b[39m(training[:,[\u001b[39m0\u001b[39;49m]])\n\u001b[0;32m     <a href='vscode-notebook-cell:/e%3A/github%20project/salary_prediction_simplelinearregression/chatbot_NLP/chatboat.ipynb#W5sZmlsZQ%3D%3D?line=29'>30</a>\u001b[0m train_y\u001b[39m=\u001b[39m\u001b[39mlist\u001b[39m(training[:,\u001b[39m1\u001b[39m])\n",
      "\u001b[1;31mIndexError\u001b[0m: too many indices for array: array is 1-dimensional, but 2 were indexed"
     ]
    }
   ],
   "source": [
    "#create training data\n",
    "training=[]\n",
    "output=[]\n",
    "# create an empty array for output\n",
    "output_empty= [0]* len(classes)\n",
    "\n",
    "# create taring set, bag of words for each sentence\n",
    "for doc in documents:\n",
    "    #initialize bag of words\n",
    "    bag=[]\n",
    "    #list of toknized words for pattern\n",
    "    pattern_words =doc[0]\n",
    "    #stemming each word\n",
    "    pattern_words=[stemmer.stem(word.lower()) for word in pattern_words]\n",
    "    #create bag of words array\n",
    "    for w in words:\n",
    "        bag.append(1) if w in pattern_words else bag.append(0)\n",
    "\n",
    "    #output is '1' for current tag and '0' for rest of other tags\n",
    "    output_row= list(output_empty)\n",
    "    output_row[classes.index(doc[1])]=1\n",
    "    training.append([bag, output_row])\n",
    "\n",
    "# shuffling features and turning it into np.array\n",
    "random.shuffle(training)\n",
    "training= np.array(training)\n",
    "\n",
    "# creating training lists\n",
    "train_x= list(training[:,0])\n",
    "train_y=list(training[:,1])"
   ]
  }
 ],
 "metadata": {
  "kernelspec": {
   "display_name": "Python 3.10.5 64-bit",
   "language": "python",
   "name": "python3"
  },
  "language_info": {
   "codemirror_mode": {
    "name": "ipython",
    "version": 3
   },
   "file_extension": ".py",
   "mimetype": "text/x-python",
   "name": "python",
   "nbconvert_exporter": "python",
   "pygments_lexer": "ipython3",
   "version": "3.10.5"
  },
  "orig_nbformat": 4,
  "vscode": {
   "interpreter": {
    "hash": "26de051ba29f2982a8de78e945f0abaf191376122a1563185a90213a26c5da77"
   }
  }
 },
 "nbformat": 4,
 "nbformat_minor": 2
}
